{
 "cells": [
  {
   "cell_type": "code",
   "execution_count": 1,
   "metadata": {},
   "outputs": [],
   "source": [
    "import numpy as np\n",
    "import os"
   ]
  },
  {
   "cell_type": "code",
   "execution_count": 3,
   "metadata": {},
   "outputs": [],
   "source": [
    "def open_current_file(current_day):\n",
    "    filename = 'dag_' + str(current_day) + '.txt'\n",
    "    with open(os.path.join('input', filename)) as f:\n",
    "        text = f.readlines()\n",
    "\n",
    "    text = [line.replace('\\n', '') for line in text]    \n",
    "    return text"
   ]
  },
  {
   "cell_type": "markdown",
   "metadata": {},
   "source": [
    "Exercise 1"
   ]
  },
  {
   "cell_type": "code",
   "execution_count": 19,
   "metadata": {},
   "outputs": [
    {
     "name": "stdout",
     "output_type": "stream",
     "text": [
      "Highest calories: 70369\n"
     ]
    }
   ],
   "source": [
    "current_day = 1\n",
    "text = open_current_file(current_day)\n",
    "def calc_calories(text):\n",
    "    current_calories = 0\n",
    "    highest_calories = 0\n",
    "    for line in text:\n",
    "        if not line:\n",
    "            highest_calories = max(highest_calories, current_calories)\n",
    "            current_calories = 0\n",
    "        else:\n",
    "            current_calories += int(line)\n",
    "    print(f\"Highest calories: {highest_calories}\") #70369"
   ]
  },
  {
   "cell_type": "markdown",
   "metadata": {},
   "source": [
    "Exercise 2"
   ]
  },
  {
   "cell_type": "code",
   "execution_count": 20,
   "metadata": {},
   "outputs": [
    {
     "name": "stdout",
     "output_type": "stream",
     "text": [
      "Highest 3 calories: [65852, 66781, 70369]. Their sum is 203002\n"
     ]
    }
   ],
   "source": [
    "highest_3_calories = [0, 0, 0]\n",
    "current_calories = 0\n",
    "\n",
    "for line in text:\n",
    "    if not line:\n",
    "        highest_3_calories[0] = max(highest_3_calories[0], current_calories)\n",
    "        highest_3_calories.sort()\n",
    "        current_calories = 0\n",
    "    else:\n",
    "        current_calories += int(line)\n",
    "\n",
    "print(f\"Highest 3 calories: {highest_3_calories}. Their sum is {sum(highest_3_calories)}\")\n"
   ]
  },
  {
   "cell_type": "markdown",
   "metadata": {},
   "source": [
    "Day 2: Exercise 1"
   ]
  },
  {
   "cell_type": "code",
   "execution_count": 14,
   "metadata": {},
   "outputs": [
    {
     "name": "stdout",
     "output_type": "stream",
     "text": [
      "The total score is 12740\n"
     ]
    }
   ],
   "source": [
    "# Opponent: A = Rock, B = Paper, C = Scissors\n",
    "# Player: X = Rock, Y = Paper, Z = Scissors\n",
    "\n",
    "# Rock = 1, Paper = 2, Scissors = 3\n",
    "# Win = 6, Draw = 3, Lose = 0\n",
    "\n",
    "def rps(opponent, player):\n",
    "    # Win\n",
    "    if player == 'X' and opponent == 'C' or player == 'Y' and opponent == 'A' or player == 'Z' and opponent == 'B':\n",
    "        score = 6\n",
    "    # Draw\n",
    "    elif player == 'X' and opponent == 'A'or player == 'Y' and opponent == 'B' or player == 'Z' and opponent == 'C':\n",
    "        score = 3\n",
    "    # Lose\n",
    "    elif player == 'X' and opponent == 'B'or player == 'Y' and opponent == 'C' or player == 'Z' and opponent == 'A':\n",
    "        score = 0\n",
    "\n",
    "    if player == 'X':\n",
    "        score += 1\n",
    "    elif player == 'Y':\n",
    "        score += 2\n",
    "    elif player == 'Z':\n",
    "        score += 3\n",
    "    return score\n",
    "\n",
    "total_score = 0\n",
    "for line in text:\n",
    "    opponent, player = line.split()\n",
    "    total_score += rps(opponent, player)\n",
    "\n",
    "    \n",
    "print(f\"The total score is {total_score}\")"
   ]
  },
  {
   "cell_type": "markdown",
   "metadata": {},
   "source": [
    "Exercise 2:"
   ]
  },
  {
   "cell_type": "code",
   "execution_count": 17,
   "metadata": {},
   "outputs": [
    {
     "name": "stdout",
     "output_type": "stream",
     "text": [
      "The total score is 11980\n"
     ]
    }
   ],
   "source": [
    "# Opponent: A = Rock, B = Paper, C = Scissors\n",
    "# Player: X = Lose, Y = Draw, Z = Win\n",
    "\n",
    "# Rock = 1, Paper = 2, Scissors = 3\n",
    "# Win = 6, Draw = 3, Lose = 0\n",
    "\n",
    "def rps_2(opponent, player):\n",
    "    # Rock\n",
    "    if player == 'X' and opponent == 'B' or player == 'Y' and opponent == 'A' or player == 'Z' and opponent == 'C':\n",
    "        score = 1\n",
    "    # Paper\n",
    "    elif player == 'X' and opponent == 'C' or player == 'Y' and opponent == 'B' or player == 'Z' and opponent == 'A':\n",
    "        score = 2\n",
    "    # Scissors\n",
    "    elif player == 'X' and opponent == 'A' or player == 'Y' and opponent == 'C' or player == 'Z' and opponent == 'B':\n",
    "        score = 3\n",
    "\n",
    "    if player == 'X':\n",
    "        score += 0\n",
    "    elif player == 'Y':\n",
    "        score += 3\n",
    "    elif player == 'Z':\n",
    "        score += 6\n",
    "    return score\n",
    "\n",
    "total_score = 0\n",
    "for line in text:\n",
    "    opponent, player = line.split()\n",
    "    total_score += rps_2(opponent, player)\n",
    "\n",
    "    \n",
    "print(f\"The total score is {total_score}\")"
   ]
  },
  {
   "cell_type": "markdown",
   "metadata": {},
   "source": [
    "Day 3: Exercise 1"
   ]
  },
  {
   "cell_type": "code",
   "execution_count": 48,
   "metadata": {},
   "outputs": [
    {
     "name": "stdout",
     "output_type": "stream",
     "text": [
      "The total priority is 7863\n"
     ]
    }
   ],
   "source": [
    "# Lowercase a to z --> Priority 1 to 26\n",
    "# Uppercase A to Z --> Priority 27 to 52\n",
    "\n",
    "text = open_current_file(3)\n",
    "shared_items = []\n",
    "for line in text:\n",
    "    line_length = int(len(line)/2)\n",
    "    rucksack_1 = line[:line_length]\n",
    "    rucksack_2 = line[line_length:]\n",
    "\n",
    "    for item_type in rucksack_1:\n",
    "        if item_type in rucksack_2:\n",
    "            shared_items.append(item_type)\n",
    "            break # Shared item found, no repeats happen\n",
    "\n",
    "# ord('a') - 96 = 1\n",
    "# ord('A') - 64 = 1 --> ord('A') - 38\n",
    "def calculate_priority(shared_items):\n",
    "    total_sum = 0\n",
    "    for letter in shared_items:\n",
    "        if letter.islower():\n",
    "            total_sum += ord(letter)-96\n",
    "        elif letter.isupper():\n",
    "            total_sum += ord(letter)-38\n",
    "    return total_sum\n",
    "print(f\"The total priority is {calculate_priority(shared_items)}\")        "
   ]
  },
  {
   "cell_type": "code",
   "execution_count": 49,
   "metadata": {},
   "outputs": [
    {
     "name": "stdout",
     "output_type": "stream",
     "text": [
      "The total priority is 2488\n"
     ]
    }
   ],
   "source": [
    "shared_items = []\n",
    "group_amount = int(len(text)/3)\n",
    "for idx in range(group_amount):\n",
    "    rucksack_1 = text[idx*3]\n",
    "    rucksack_2 = text[idx*3+1]\n",
    "    rucksack_3 = text[idx*3+2]\n",
    "\n",
    "    for item_type in rucksack_1:\n",
    "        if item_type in rucksack_2 and item_type in rucksack_3:\n",
    "            shared_items.append(item_type)\n",
    "            break # Shared item found, no repeats happen\n",
    "\n",
    "print(f\"The total priority is {calculate_priority(shared_items)}\")"
   ]
  },
  {
   "cell_type": "markdown",
   "metadata": {},
   "source": [
    "Day 4: Exercise 1"
   ]
  },
  {
   "cell_type": "code",
   "execution_count": 23,
   "metadata": {},
   "outputs": [
    {
     "name": "stdout",
     "output_type": "stream",
     "text": [
      "The amount of pairs is 532\n"
     ]
    }
   ],
   "source": [
    "text = open_current_file(4)\n",
    "\n",
    "def get_characters(line):\n",
    "    char_1, char_2 = line.split(',')\n",
    "    char_1_min, char_1_max = char_1.split('-')\n",
    "    char_2_min, char_2_max = char_2.split('-')\n",
    "    char_1_min, char_1_max, char_2_min, char_2_max = int(char_1_min), int(char_1_max), int(char_2_min), int(char_2_max)\n",
    "    return [char_1_min, char_1_max], [char_2_min, char_2_max]\n",
    "\n",
    "amount = 0\n",
    "for line in text:\n",
    "    char_1, char_2 = get_characters(line)\n",
    "\n",
    "    if char_1[0] <= char_2[0] and char_1[1] >= char_2[1] or char_2[0] <= char_1[0] and char_2[1] >= char_1[1]:\n",
    "        amount += 1\n",
    "\n",
    "print(f\"The amount of pairs is {amount}\")\n",
    "    "
   ]
  },
  {
   "cell_type": "code",
   "execution_count": 54,
   "metadata": {},
   "outputs": [
    {
     "name": "stdout",
     "output_type": "stream",
     "text": [
      "The amount of pairs is 854\n"
     ]
    }
   ],
   "source": [
    "amount = 0\n",
    "for line in text:\n",
    "    char_1, char_2 = get_characters(line)\n",
    "    char_1_range = np.arange(char_1[0], char_1[1]+1, 1)\n",
    "    char_2_range = np.arange(char_2[0], char_2[1]+1, 1)\n",
    "    overlapping_elements = [number for number in char_1_range if number in char_2_range]\n",
    "    if overlapping_elements:\n",
    "        amount += 1\n",
    "\n",
    "print(f\"The amount of pairs is {amount}\")"
   ]
  },
  {
   "cell_type": "markdown",
   "metadata": {},
   "source": [
    "Day 5: Exercise 1"
   ]
  },
  {
   "cell_type": "code",
   "execution_count": 34,
   "metadata": {},
   "outputs": [],
   "source": [
    "text = open_current_file(5)\n",
    "\n",
    "def get_crates(p: bool = True):\n",
    "    crates = [[] for _ in range(9)]\n",
    "    placements = text[:9]\n",
    "    instructions = text[10:]\n",
    "    if p:\n",
    "        for line in text[:9]:\n",
    "            print(line)\n",
    "\n",
    "    placements.reverse()\n",
    "    for line_of_crates in placements:\n",
    "        for idx, character in enumerate(line_of_crates):\n",
    "            if character.isalpha():\n",
    "                crate_placement = int(idx/4)\n",
    "                crates[crate_placement].append(character)\n",
    "    return crates, placements, instructions"
   ]
  },
  {
   "cell_type": "code",
   "execution_count": 39,
   "metadata": {},
   "outputs": [],
   "source": [
    "# Move instruct_list[0] (amount) from instruct_list[1] (idx + 1) to instruct_list[2] (idx + 1)\n",
    "def get_instructions(instructions):\n",
    "    instruct_list = []\n",
    "    for instruction in instructions:\n",
    "        word_list = instruction.split()\n",
    "        list_of_instruction_numbers = [int(word) for word in word_list if word.isnumeric()]\n",
    "        instruct_list.append(list_of_instruction_numbers)\n",
    "    return instruct_list    \n"
   ]
  },
  {
   "cell_type": "code",
   "execution_count": 40,
   "metadata": {},
   "outputs": [
    {
     "name": "stdout",
     "output_type": "stream",
     "text": [
      "['C', 'G', 'D', 'J', 'S', 'T', 'W', 'H', 'S', 'F', 'B', 'P', 'P', 'J']\n",
      "['D', 'C']\n",
      "['L', 'Q', 'J', 'W', 'S', 'M']\n",
      "['C', 'F', 'T', 'R', 'W', 'M', 'N', 'C', 'J', 'D', 'W', 'F', 'L', 'H', 'B', 'H']\n",
      "['S', 'N', 'L']\n",
      "['S', 'M', 'T', 'Z', 'F', 'V']\n",
      "['H', 'W', 'P', 'R', 'G', 'R', 'G']\n",
      "['M']\n",
      "['G']\n"
     ]
    }
   ],
   "source": [
    "crates, placements, instructions = get_crates(p = False)\n",
    "instruct_list = get_instructions(instructions)\n",
    "\n",
    "def follow_instructions_1(crates, instruct_list):\n",
    "    for instructs in instruct_list:\n",
    "        amount = instructs[0]\n",
    "        initial_loc = instructs[1]-1\n",
    "        new_loc = instructs[2]-1\n",
    "        for i in range(amount):\n",
    "            crates[new_loc].append(crates[initial_loc][-1])\n",
    "            crates[initial_loc].pop()\n",
    "    return crates\n",
    "\n",
    "crate_locations_1 = follow_instructions_1(crates, instruct_list)\n",
    "for crate in crate_locations_1:\n",
    "    print(crate)"
   ]
  },
  {
   "cell_type": "code",
   "execution_count": 157,
   "metadata": {},
   "outputs": [
    {
     "name": "stdout",
     "output_type": "stream",
     "text": [
      "['D', 'B', 'C', 'C', 'J', 'H', 'J', 'F', 'N', 'D', 'S', 'D', 'C', 'L']\n",
      "['T', 'V']\n",
      "['S', 'F', 'R', 'Q', 'G', 'M']\n",
      "['L', 'S', 'N', 'G', 'J', 'P', 'G', 'M', 'C', 'W', 'H', 'W', 'W', 'G', 'H', 'R']\n",
      "['J', 'T', 'W']\n",
      "['F', 'P', 'T', 'H', 'W', 'S']\n",
      "['B', 'M', 'R', 'M', 'L', 'F', 'S']\n",
      "['P']\n",
      "['Z']\n"
     ]
    }
   ],
   "source": [
    "def follow_instructions_2(crates, instruct_list):\n",
    "    for instructs in instruct_list:\n",
    "        amount = instructs[0]\n",
    "        initial_loc = instructs[1]-1\n",
    "        new_loc = instructs[2]-1\n",
    "        \n",
    "        crates[new_loc].extend(crates[initial_loc][-amount:])\n",
    "        crates[initial_loc] = crates[initial_loc][:-amount]\n",
    "    return crates\n",
    "\n",
    "crates, placements, instructions = get_crates(p = False)\n",
    "instruct_list = get_instructions(instructions)\n",
    "crate_locations_2 = follow_instructions_2(crates, instruct_list)\n",
    "\n",
    "for crate in crate_locations_2:\n",
    "    print(crate)"
   ]
  },
  {
   "cell_type": "markdown",
   "metadata": {},
   "source": [
    "Day 6: Exercise 1"
   ]
  },
  {
   "cell_type": "code",
   "execution_count": 31,
   "metadata": {},
   "outputs": [],
   "source": [
    "text = open_current_file(6)\n",
    "\n",
    "def find_sequence(text, distinct_characters = 4):\n",
    "    line = text[0]\n",
    "    sequence_of_four = line[:distinct_characters]\n",
    "    for idx, letter in enumerate(line[distinct_characters:]):\n",
    "        sequence_of_four = sequence_of_four[1:] + letter\n",
    "        duplicates = [sequence_of_four.count(part) for part in sequence_of_four]\n",
    "        if sum(duplicates) == distinct_characters:\n",
    "            print(f\"The sequence is: {sequence_of_four}, the new letter is: {letter}\")\n",
    "            break\n",
    "\n",
    "    print(f\"The amount of characters is {idx+distinct_characters+1}\")  "
   ]
  },
  {
   "cell_type": "code",
   "execution_count": 32,
   "metadata": {},
   "outputs": [
    {
     "name": "stdout",
     "output_type": "stream",
     "text": [
      "The sequence is: mwncpfhvqlsbtr, the new letter is: r\n",
      "The amount of characters is 2746\n"
     ]
    }
   ],
   "source": [
    "find_sequence(text, 14)"
   ]
  }
 ],
 "metadata": {
  "kernelspec": {
   "display_name": "Python 3.9.7 64-bit",
   "language": "python",
   "name": "python3"
  },
  "language_info": {
   "codemirror_mode": {
    "name": "ipython",
    "version": 3
   },
   "file_extension": ".py",
   "mimetype": "text/x-python",
   "name": "python",
   "nbconvert_exporter": "python",
   "pygments_lexer": "ipython3",
   "version": "3.9.7"
  },
  "orig_nbformat": 4,
  "vscode": {
   "interpreter": {
    "hash": "588a24665e08511f5daa7112c8391034a3a420bb24247d66bb6c013101966a90"
   }
  }
 },
 "nbformat": 4,
 "nbformat_minor": 2
}
